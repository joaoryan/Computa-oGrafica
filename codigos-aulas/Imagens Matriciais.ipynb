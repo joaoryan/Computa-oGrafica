{
 "cells": [
  {
   "cell_type": "markdown",
   "id": "edf4e1f0",
   "metadata": {},
   "source": [
    "# Imagens Matriciais"
   ]
  },
  {
   "cell_type": "markdown",
   "id": "d2f1bfef",
   "metadata": {},
   "source": [
    "1 - Utilize um método grayscale e salve a imagem resultante no disco."
   ]
  },
  {
   "cell_type": "code",
   "execution_count": null,
   "id": "2b72d13b",
   "metadata": {},
   "outputs": [],
   "source": [
    "from PIL import Image\n",
    "import matplotlib.pyplot as plt\n",
    "import numpy as np\n",
    "\n",
    "img = np.array(Image.open('link.jpg'))[:,:,:3]\n",
    "\n",
    "def grayscale(img_np):\n",
    "\n",
    "    (l, c, p) = img_np.shape\n",
    "\n",
    "    img_avg = np.zeros(shape=(l, c), dtype=np.uint8)\n",
    "    for i in range(l):\n",
    "        for j in range(c):\n",
    "            r = float(img_np[i, j, 0])\n",
    "            g = float(img_np[i, j, 1])\n",
    "            b = float(img_np[i, j, 2])\n",
    "\n",
    "            img_avg[i, j] = (max(r, g, b) + min(r, g, b)) / 3\n",
    "    \n",
    "    return img_avg\n",
    "\n",
    "img_avg = grayscale(img)\n",
    "plt.imshow(img_avg, cmap = 'gray')\n",
    "print(img_avg.shape)"
   ]
  },
  {
   "cell_type": "markdown",
   "id": "f7d49252",
   "metadata": {},
   "source": [
    "2 - Converta uma imagem para binária, utilizando um método de grayscale diferente do anterior. Salve-a no disco."
   ]
  },
  {
   "cell_type": "code",
   "execution_count": null,
   "id": "358c45db",
   "metadata": {},
   "outputs": [],
   "source": [
    "from PIL import Image\n",
    "import matplotlib.pyplot as plt\n",
    "import numpy as np\n",
    "\n",
    "img = np.array(Image.open('link.jpg'))[:,:,:3]\n",
    "\n",
    "def binaria(img_np):\n",
    "\n",
    "    (l, c, p) = img_np.shape\n",
    "\n",
    "    img_avg = np.zeros(shape=(l, c), dtype=np.uint8)\n",
    "    for i in range(l):\n",
    "        for j in range(c):\n",
    "            r = float(img_np[i, j, 0])\n",
    "            g = float(img_np[i, j, 1])\n",
    "            b = float(img_np[i, j, 2])\n",
    "\n",
    "            img_avg[i, j] = (max(r, g, b) + min(r, g, b)) / 3\n",
    "            \n",
    "    img_bin = np.zeros(shape=(l, c), dtype=np.uint8)\n",
    "    tresh = 10\n",
    "    for i in range(l):\n",
    "        for j in range(c):\n",
    "            if img_avg[i, j] > tresh:\n",
    "                img_bin[i, j] = 255\n",
    "                \n",
    "    return img_bin\n",
    "    \n",
    "\n",
    "img_bin = binaria(img)\n",
    "plt.imshow(img_bin, cmap = 'gray')\n",
    "print(img_bin.shape)\n",
    "\n",
    "img_pil = Image.fromarray(img_bin)\n",
    "img_pil.save('link1.png')"
   ]
  }
 ],
 "metadata": {
  "kernelspec": {
   "display_name": "Python 3 (ipykernel)",
   "language": "python",
   "name": "python3"
  },
  "language_info": {
   "codemirror_mode": {
    "name": "ipython",
    "version": 3
   },
   "file_extension": ".py",
   "mimetype": "text/x-python",
   "name": "python",
   "nbconvert_exporter": "python",
   "pygments_lexer": "ipython3",
   "version": "3.10.6"
  }
 },
 "nbformat": 4,
 "nbformat_minor": 5
}
