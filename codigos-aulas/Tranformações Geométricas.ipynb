{
 "cells": [
  {
   "cell_type": "markdown",
   "id": "82fa63de",
   "metadata": {},
   "source": [
    "# Tranformações Geométricas\n"
   ]
  },
  {
   "cell_type": "markdown",
   "id": "6ac11d3b",
   "metadata": {},
   "source": [
    "1- Crie uma função mirror, que recebe img (np.array), reverse_x (bool) e reverse_y (bool) e retorna uma nova imagem, onde caso reverse_EIXO seja verdadeiro, esta deve ser img espelhada em EIXO. Em seguida, teste sua função com uma imagem de sua escolha.\n"
   ]
  },
  {
   "cell_type": "code",
   "execution_count": 2,
   "id": "d4562712",
   "metadata": {},
   "outputs": [
    {
     "ename": "FileNotFoundError",
     "evalue": "[Errno 2] No such file or directory: 'mario.png'",
     "output_type": "error",
     "traceback": [
      "\u001b[1;31m---------------------------------------------------------------------------\u001b[0m",
      "\u001b[1;31mFileNotFoundError\u001b[0m                         Traceback (most recent call last)",
      "\u001b[1;32mc:\\Users\\sjoao\\Workspace\\ComputacaoGrafica\\codigos-aulas\\Tranformações Geométricas.ipynb Cell 3\u001b[0m line \u001b[0;36m5\n\u001b[0;32m      <a href='vscode-notebook-cell:/c%3A/Users/sjoao/Workspace/ComputacaoGrafica/codigos-aulas/Tranforma%C3%A7%C3%B5es%20Geom%C3%A9tricas.ipynb#W2sZmlsZQ%3D%3D?line=1'>2</a>\u001b[0m \u001b[39mimport\u001b[39;00m \u001b[39mmatplotlib\u001b[39;00m\u001b[39m.\u001b[39;00m\u001b[39mpyplot\u001b[39;00m \u001b[39mas\u001b[39;00m \u001b[39mplt\u001b[39;00m\n\u001b[0;32m      <a href='vscode-notebook-cell:/c%3A/Users/sjoao/Workspace/ComputacaoGrafica/codigos-aulas/Tranforma%C3%A7%C3%B5es%20Geom%C3%A9tricas.ipynb#W2sZmlsZQ%3D%3D?line=2'>3</a>\u001b[0m \u001b[39mimport\u001b[39;00m \u001b[39mnumpy\u001b[39;00m \u001b[39mas\u001b[39;00m \u001b[39mnp\u001b[39;00m\n\u001b[1;32m----> <a href='vscode-notebook-cell:/c%3A/Users/sjoao/Workspace/ComputacaoGrafica/codigos-aulas/Tranforma%C3%A7%C3%B5es%20Geom%C3%A9tricas.ipynb#W2sZmlsZQ%3D%3D?line=4'>5</a>\u001b[0m mario \u001b[39m=\u001b[39m np\u001b[39m.\u001b[39marray(Image\u001b[39m.\u001b[39;49mopen(\u001b[39m'\u001b[39;49m\u001b[39mmario.png\u001b[39;49m\u001b[39m'\u001b[39;49m))[:, :, :\u001b[39m3\u001b[39m]\n\u001b[0;32m      <a href='vscode-notebook-cell:/c%3A/Users/sjoao/Workspace/ComputacaoGrafica/codigos-aulas/Tranforma%C3%A7%C3%B5es%20Geom%C3%A9tricas.ipynb#W2sZmlsZQ%3D%3D?line=6'>7</a>\u001b[0m \u001b[39mdef\u001b[39;00m \u001b[39mmirror\u001b[39m(imagem_original, reverse_x, reverse_y):\n\u001b[0;32m      <a href='vscode-notebook-cell:/c%3A/Users/sjoao/Workspace/ComputacaoGrafica/codigos-aulas/Tranforma%C3%A7%C3%B5es%20Geom%C3%A9tricas.ipynb#W2sZmlsZQ%3D%3D?line=7'>8</a>\u001b[0m     (l, c, p) \u001b[39m=\u001b[39m imagem_original\u001b[39m.\u001b[39mshape\n",
      "File \u001b[1;32mc:\\Users\\sjoao\\AppData\\Local\\Programs\\Python\\Python311\\Lib\\site-packages\\PIL\\Image.py:3218\u001b[0m, in \u001b[0;36mopen\u001b[1;34m(fp, mode, formats)\u001b[0m\n\u001b[0;32m   3215\u001b[0m     filename \u001b[39m=\u001b[39m fp\n\u001b[0;32m   3217\u001b[0m \u001b[39mif\u001b[39;00m filename:\n\u001b[1;32m-> 3218\u001b[0m     fp \u001b[39m=\u001b[39m builtins\u001b[39m.\u001b[39;49mopen(filename, \u001b[39m\"\u001b[39;49m\u001b[39mrb\u001b[39;49m\u001b[39m\"\u001b[39;49m)\n\u001b[0;32m   3219\u001b[0m     exclusive_fp \u001b[39m=\u001b[39m \u001b[39mTrue\u001b[39;00m\n\u001b[0;32m   3221\u001b[0m \u001b[39mtry\u001b[39;00m:\n",
      "\u001b[1;31mFileNotFoundError\u001b[0m: [Errno 2] No such file or directory: 'mario.png'"
     ]
    }
   ],
   "source": [
    "from PIL import Image\n",
    "import matplotlib.pyplot as plt\n",
    "import numpy as np\n",
    "\n",
    "mario = np.array(Image.open('mario.png'))[:, :, :3]\n",
    "\n",
    "def mirror(imagem_original, reverse_x, reverse_y):\n",
    "    (l, c, p) = imagem_original.shape\n",
    "    \n",
    "    #Reflexao em relaçao aos eixos x e y\n",
    "    if(reverse_x == True and reverse_y == True):\n",
    "        mario_refl = np.zeros(shape=imagem_original.shape, dtype=np.uint8)\n",
    "        for i in range(l):\n",
    "            for j in range(c):\n",
    "                new_x = -j\n",
    "                new_y = -i\n",
    "                mario_refl[new_y, new_x] = imagem_original[i,j]       \n",
    "        return mario_refl\n",
    "    \n",
    "    #Reflexao em relaçao ao eixo x \n",
    "    elif(reverse_x==True):\n",
    "        mario_refl = np.zeros(shape=imagem_original.shape, dtype=np.uint8)\n",
    "        for i in range(l):\n",
    "            for j in range(c):\n",
    "                new_x = j\n",
    "                new_y = -i\n",
    "                mario_refl[new_y, new_x] = imagem_original[i,j]       \n",
    "        return mario_refl\n",
    "    \n",
    "    #Reflexao em relaçao ao eixo y \n",
    "    else:\n",
    "        mario_refl = np.zeros(shape=imagem_original.shape, dtype=np.uint8)\n",
    "        for i in range(l):\n",
    "            for j in range(c):\n",
    "                new_x = -j\n",
    "                new_y = i\n",
    "                mario_refl[new_y, new_x] = imagem_original[i,j]       \n",
    "        return mario_refl\n",
    "    \n",
    "mario_refl = mirror(mario, False, True)\n",
    "plt.imshow(mario_refl)"
   ]
  },
  {
   "cell_type": "markdown",
   "id": "091a4fda",
   "metadata": {},
   "source": [
    "2- Escolha uma imagem qualquer e realize um cisalhamento nela, sendo os fatores de sua escolha."
   ]
  },
  {
   "cell_type": "code",
   "execution_count": null,
   "id": "1a305540",
   "metadata": {},
   "outputs": [
    {
     "data": {
      "text/plain": [
       "<matplotlib.image.AxesImage at 0x20fd3ed7cd0>"
      ]
     },
     "execution_count": 3,
     "metadata": {},
     "output_type": "execute_result"
    },
    {
     "data": {
      "image/png": "[encoded data removed]",
      "text/plain": [
       "<Figure size 432x288 with 1 Axes>"
      ]
     },
     "metadata": {
      "needs_background": "light"
     },
     "output_type": "display_data"
    }
   ],
   "source": [
    "from PIL import Image\n",
    "import matplotlib.pyplot as plt\n",
    "import numpy as np\n",
    "\n",
    "mario = np.array(Image.open('mario.png'))[:, :, :3]\n",
    "\n",
    "cisalhamento_x , cisalhamento_y = 0.5, 0.2\n",
    "\n",
    "def cisalhamento(imagem_cisalhamento):\n",
    "    (l, c, p) = imagem_cisalhamento.shape\n",
    "    img_res = np.zeros(shape=(int(l * (1 + cisalhamento_x)), int(c * (1 + cisalhamento_y)), p), dtype = np.uint8)\n",
    "    for i in range(l):\n",
    "        for j in range(c):\n",
    "            new_x = int(j + i * cisalhamento_y)\n",
    "            new_y = int(i + j * cisalhamento_x)\n",
    "            \n",
    "            img_res[new_y, new_x] = imagem_cisalhamento[i,j]\n",
    "            \n",
    "    return img_res\n",
    "            \n",
    "            \n",
    "img_res = cisalhamento(mario)\n",
    "plt.imshow(img_res)"
   ]
  },
  {
   "cell_type": "code",
   "execution_count": null,
   "id": "751c3505",
   "metadata": {},
   "outputs": [],
   "source": []
  }
 ],
 "metadata": {
  "kernelspec": {
   "display_name": "Python 3 (ipykernel)",
   "language": "python",
   "name": "python3"
  },
  "language_info": {
   "codemirror_mode": {
    "name": "ipython",
    "version": 3
   },
   "file_extension": ".py",
   "mimetype": "text/x-python",
   "name": "python",
   "nbconvert_exporter": "python",
   "pygments_lexer": "ipython3",
   "version": "3.11.6"
  }
 },
 "nbformat": 4,
 "nbformat_minor": 5
}
